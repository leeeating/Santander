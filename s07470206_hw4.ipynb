{
 "cells": [
  {
   "cell_type": "markdown",
   "metadata": {},
   "source": [
    "#### <font color=#0000FF>程式作業四</font>\n",
    "1. **繳交期限為<font color=#FF6600> 2022/05/24 08:00</font> 以前上傳至 Moodle LMS 教學平台。**\n",
    "2. **上傳作業時，必須完成以下幾件事：**\n",
    "    * **將目前您所看到的此檔案(hw4.ipynb)，改為(<font color=#FF00FF>您的學號</font><font color=#0000FF>_hw4.ipynb</font>)。**\n",
    "    * **建立一個全新的資料夾，將上述作業檔案置入，並將資料夾的名稱改為<font color=#FF00FF>您的學號</font>。**\n",
    "    * **將上述包含作業的資料夾以 <font color=#FF0000>ZIP</font> 格式壓縮後上傳。**\n",
    "\n",
    "3. **<font color=#FF0000>注意事項：所有程式作業應積極相互討論，但不得寫出同一版本或相互抄襲。您所完成繳交的作業是否有抄襲由評分的助教自行判斷，不會找您來確認，因為不會有兩個人會寫出相同的程式！所以強烈建議不要任意將自己已經完成的作業程式碼公開分享給其他同學。</font>**\n",
    "4. **評分依據：**\n",
    "    1. **標頭註解與指令註解完整度    <font color=#0000FF>20%</font>**\n",
    "    1. **程式執行正確性(含)\t   <font color=#0000FF>80%</font>**\n",
    "5. **標頭註解與指令註解的撰寫請參考教學平台上老師提供的範例，至於要使用 Markdown 或 Code comments 的方式來撰寫請自選，程式盡量【逐行】或以【區塊方式】加註解說明，越完整清楚越好。**"
   ]
  },
  {
   "cell_type": "markdown",
   "metadata": {},
   "source": [
    "### <font color=#FF6600>作業內容</font>\n",
    "\n",
    "1. **本次作業限用 NumPy 指令語法。**\n",
    "1. **作業必須在 Jupyter Notebook 上完成。**\n",
    "1. **本次作業包含二個大題，請依序將每一個大題中的作業要求寫在指定的 cell 內。**"
   ]
  },
  {
   "cell_type": "markdown",
   "metadata": {},
   "source": [
    "### <font color=#0000FF>第一題：</font>\n",
    "***\n",
    "**以 NumPy 內建工具來產生 60 個介於 -50 到 +99 之間的亂數整數，每一個整數大小為 64 位元。將這 60 個整數任意放入一個 6X10 的陣列中，以每一列(row)為單位，分別計算並輸出以下需求，其數值顯示於螢幕時需四捨五入制小數點後兩位數，遇缺補零(例：15.4 須表示成 15.40)，其詳細細節請參考 numpy 中的 set_printoptions()：**\n",
    "1. **產生此矩陣並列印結果(請參考如何使用 numpy 中的 random())**\n",
    "1. **顯示此矩陣每一列(row)資料集的型態(請參考如何使用 numpy 中的 apply_along_axis())**\n",
    "1. **計算並顯示每一列(row)資料集的平均數(請參考如何使用 numpy 中的 mean(), around())**\n",
    "1. **計算並顯示每一列(row)資料集的中位數(請參考如何使用 numpy 中的 median(), around())**\n",
    "1. **計算並顯示每一列(row)資料集的標準差(請參考如何使用 numpy 中的 std(), around())**\n",
    "1. **計算並顯示每一列(row)資料集的變異數(請參考如何使用 numpy 中的 var(), around())**\n",
    "1. **計算並顯示每一列(row)資料集的集差值，即每列中最大值與最小值之間的差距(請參考如何使用 numpy 中的 ptp())**\n",
    "\n",
    "#### <font color=#FF0000>※ 以上每一個子題限定使用 Numpy 提供的方法完成；切記：每題答案如果超過二行指令就是錯的！</font>"
   ]
  },
  {
   "cell_type": "code",
   "execution_count": 1,
   "metadata": {},
   "outputs": [],
   "source": [
    "import numpy as np     # 讀入 Numpy 函式庫"
   ]
  },
  {
   "cell_type": "markdown",
   "metadata": {},
   "source": [
    "### 設定以下各小題將結果列印於螢幕上時，必須列印至小數點後二位數，且小數部分遇缺補零"
   ]
  },
  {
   "cell_type": "code",
   "execution_count": 2,
   "metadata": {},
   "outputs": [],
   "source": [
    "np.set_printoptions(precision=2,floatmode=\"fixed\")"
   ]
  },
  {
   "cell_type": "markdown",
   "metadata": {},
   "source": [
    "### 1. 產生矩陣資料並列印其結果"
   ]
  },
  {
   "cell_type": "code",
   "execution_count": 3,
   "metadata": {},
   "outputs": [
    {
     "data": {
      "text/plain": [
       "array([[ 68, -23,  57, -28, -42,  46,  75,  40,  39, -41],\n",
       "       [-22,  97,  -7, -11, -40,   3,  29, -42, -33,  56],\n",
       "       [ 86,   0, -23,  62,   2,  35, -47,  60,  66, -43],\n",
       "       [ 32,  14,  16,  39,   9,  -1, -55,  59,  54,  22],\n",
       "       [ 72,  -9,  62,  89,  29, -19, -45, -20, -54,  27],\n",
       "       [  9,  46, -25, -50,  78,  41, -43,  12,  84,  -3]], dtype=int64)"
      ]
     },
     "execution_count": 3,
     "metadata": {},
     "output_type": "execute_result"
    }
   ],
   "source": [
    "a = np.random.randint(-55, 100, size = (6,10),dtype = 'int64')\n",
    "\n",
    "a"
   ]
  },
  {
   "cell_type": "markdown",
   "metadata": {},
   "source": [
    "### 2. 顯示此矩陣每一列資料集的型態"
   ]
  },
  {
   "cell_type": "code",
   "execution_count": 4,
   "metadata": {},
   "outputs": [
    {
     "data": {
      "text/plain": [
       "array([<class 'numpy.ndarray'>, <class 'numpy.ndarray'>,\n",
       "       <class 'numpy.ndarray'>, <class 'numpy.ndarray'>,\n",
       "       <class 'numpy.ndarray'>, <class 'numpy.ndarray'>], dtype=object)"
      ]
     },
     "execution_count": 4,
     "metadata": {},
     "output_type": "execute_result"
    }
   ],
   "source": [
    "np.apply_along_axis(type, 1, a)"
   ]
  },
  {
   "cell_type": "markdown",
   "metadata": {},
   "source": [
    "### 3. 計算並顯示每一列(row)資料集的平均數"
   ]
  },
  {
   "cell_type": "code",
   "execution_count": 5,
   "metadata": {},
   "outputs": [
    {
     "data": {
      "text/plain": [
       "array([19.10,  3.00, 19.80, 18.90, 13.20, 14.90])"
      ]
     },
     "execution_count": 5,
     "metadata": {},
     "output_type": "execute_result"
    }
   ],
   "source": [
    "np.mean(a, axis = 1)"
   ]
  },
  {
   "cell_type": "markdown",
   "metadata": {},
   "source": [
    "### 4. 計算並顯示每一列(row)資料集的中位數"
   ]
  },
  {
   "cell_type": "code",
   "execution_count": 6,
   "metadata": {},
   "outputs": [
    {
     "data": {
      "text/plain": [
       "array([39.50, -9.00, 18.50, 19.00,  9.00, 10.50])"
      ]
     },
     "execution_count": 6,
     "metadata": {},
     "output_type": "execute_result"
    }
   ],
   "source": [
    "np.median(a, axis = 1)"
   ]
  },
  {
   "cell_type": "markdown",
   "metadata": {},
   "source": [
    "### 5. 計算並顯示每一列(row)資料集的標準差"
   ]
  },
  {
   "cell_type": "code",
   "execution_count": 7,
   "metadata": {},
   "outputs": [
    {
     "data": {
      "text/plain": [
       "array([44.55, 42.91, 45.93, 30.68, 47.50, 44.64])"
      ]
     },
     "execution_count": 7,
     "metadata": {},
     "output_type": "execute_result"
    }
   ],
   "source": [
    "np.std(a, axis = 1)"
   ]
  },
  {
   "cell_type": "markdown",
   "metadata": {},
   "source": [
    "### 6. 計算並顯示每一列(row)資料集的變異數"
   ]
  },
  {
   "cell_type": "code",
   "execution_count": 8,
   "metadata": {},
   "outputs": [
    {
     "data": {
      "text/plain": [
       "array([1984.49, 1841.20, 2109.16,  941.29, 2255.96, 1992.49])"
      ]
     },
     "execution_count": 8,
     "metadata": {},
     "output_type": "execute_result"
    }
   ],
   "source": [
    "np.var(a, axis = 1)"
   ]
  },
  {
   "cell_type": "markdown",
   "metadata": {},
   "source": [
    "### 7. 計算並顯示每一列(row)資料集的集差值"
   ]
  },
  {
   "cell_type": "code",
   "execution_count": 9,
   "metadata": {},
   "outputs": [
    {
     "data": {
      "text/plain": [
       "array([117, 139, 133, 114, 143, 134], dtype=int64)"
      ]
     },
     "execution_count": 9,
     "metadata": {},
     "output_type": "execute_result"
    }
   ],
   "source": [
    "np.ptp(a, axis = 1)"
   ]
  },
  {
   "cell_type": "markdown",
   "metadata": {},
   "source": [
    "### <font color=#0000FF>第二題：</font>\n",
    "***\n",
    "**以 NumPy 內建工具來產生一個 3X4 的陣列 A，以及一個 4X5 的陣列 B，每一個陣列的元素為介於 1 到 50 之間的亂數整數，以及每一個整數大小限定為 32 位元。請完成以下的需求：**\n",
    "1. **產生矩陣 A 與 B (請參考如何使用 numpy 中的 random())**\n",
    "1. **分別列印矩陣 A 與 B 的資料內容**\n",
    "1. **找出並顯示矩陣 A 中每一列(row)的最大值(請參考如何使用 numpy 中的 amax())**\n",
    "1. **找出並顯示矩陣 A 中第二列(2nd row)中所有小於 30 的數值(請參考如何使用 numpy 中的 where())**\n",
    "1. **找出並顯示矩陣 B 中每一行或欄(column)中的最大值(請參考如何使用 numpy 中的 amax())**\n",
    "1. **找出並顯示矩陣 B 中第二行(2nd column)中所有小於 30 的數值(請參考如何使用 numpy 中的 where())**\n",
    "1. **顯示矩陣 A 中第一列(1st row)和矩陣 B 中第一列(1st row)的聯集結果(請參考如何使用 numpy 中的 union1d())**\n",
    "1. **計算與輸出矩陣 A 與矩陣 B 相乘的結果(請參考如何使用 numpy 中的 dot())**\n",
    "1. **將兩個矩陣扁平化後，輸出矩陣 A 與矩陣 B 的交集運算結果(請參考如何使用 numpy 中的 intersect1d()、ravel())**\n",
    "\n",
    "#### <font color=#FF0000>※ 以上每一個子題限定使用 Numpy 提供的方法完成；切記：每題答案如果超過二行指令就是錯的！</font>"
   ]
  },
  {
   "cell_type": "code",
   "execution_count": 10,
   "metadata": {},
   "outputs": [],
   "source": [
    "import numpy as np     # 讀入 Numpy 函式庫"
   ]
  },
  {
   "cell_type": "markdown",
   "metadata": {},
   "source": [
    "### 1. 產生矩陣 A 與 B"
   ]
  },
  {
   "cell_type": "code",
   "execution_count": 11,
   "metadata": {},
   "outputs": [],
   "source": [
    "A = np.random.randint(1, 51, size = (3,4),dtype = 'i4')\n",
    "\n",
    "B = np.random.randint(1, 51, size = (4,5),dtype = 'int32')"
   ]
  },
  {
   "cell_type": "markdown",
   "metadata": {},
   "source": [
    "### 2. 分別列印矩陣 A 與 B 的資料內容"
   ]
  },
  {
   "cell_type": "code",
   "execution_count": 12,
   "metadata": {},
   "outputs": [
    {
     "name": "stdout",
     "output_type": "stream",
     "text": [
      "[[25 49 36 13]\n",
      " [27 19  2 32]\n",
      " [ 9 32 22 19]]\n",
      "\n",
      "[[37 50  8 40 48]\n",
      " [20 23 41 41 13]\n",
      " [16 15 43 20 14]\n",
      " [22 37 25 46  2]]\n"
     ]
    }
   ],
   "source": [
    "print(A)\n",
    "print()\n",
    "print(B)"
   ]
  },
  {
   "cell_type": "markdown",
   "metadata": {},
   "source": [
    "### 3. 找出並顯示矩陣 A 中每一列(row)的最大值"
   ]
  },
  {
   "cell_type": "code",
   "execution_count": 13,
   "metadata": {},
   "outputs": [
    {
     "data": {
      "text/plain": [
       "array([49, 32, 32])"
      ]
     },
     "execution_count": 13,
     "metadata": {},
     "output_type": "execute_result"
    }
   ],
   "source": [
    "np.max(A, axis = 1)"
   ]
  },
  {
   "cell_type": "markdown",
   "metadata": {},
   "source": [
    "### 4. 找出並顯示矩陣 A 中第二列(2nd row)中所有小於 30 的數值"
   ]
  },
  {
   "cell_type": "code",
   "execution_count": 14,
   "metadata": {
    "scrolled": true
   },
   "outputs": [
    {
     "data": {
      "text/plain": [
       "array([27, 19,  2])"
      ]
     },
     "execution_count": 14,
     "metadata": {},
     "output_type": "execute_result"
    }
   ],
   "source": [
    "A[1][np.where(A[1]<30, True, False)]"
   ]
  },
  {
   "cell_type": "markdown",
   "metadata": {},
   "source": [
    "### 5. 找出並顯示矩陣 B 中每一行或欄(column)中的最大值"
   ]
  },
  {
   "cell_type": "code",
   "execution_count": 15,
   "metadata": {},
   "outputs": [
    {
     "data": {
      "text/plain": [
       "array([50, 41, 43, 46])"
      ]
     },
     "execution_count": 15,
     "metadata": {},
     "output_type": "execute_result"
    }
   ],
   "source": [
    "np.apply_along_axis(max,0,B)"
   ]
  },
  {
   "cell_type": "markdown",
   "metadata": {},
   "source": [
    "### 6. 找出並顯示矩陣 B 中第二行(2nd column)中所有小於 30 的數值"
   ]
  },
  {
   "cell_type": "code",
   "execution_count": 16,
   "metadata": {},
   "outputs": [
    {
     "data": {
      "text/plain": [
       "array([23, 15])"
      ]
     },
     "execution_count": 16,
     "metadata": {},
     "output_type": "execute_result"
    }
   ],
   "source": [
    "B[:,1][np.where(B[:,1]<30, True, False)]"
   ]
  },
  {
   "cell_type": "markdown",
   "metadata": {},
   "source": [
    "### 7. 顯示矩陣 A 中第一列(1st row)和矩陣 B 中第一列(1st row)的聯集結果"
   ]
  },
  {
   "cell_type": "code",
   "execution_count": 17,
   "metadata": {},
   "outputs": [
    {
     "data": {
      "text/plain": [
       "array([ 8, 13, 25, 36, 37, 40, 48, 49, 50])"
      ]
     },
     "execution_count": 17,
     "metadata": {},
     "output_type": "execute_result"
    }
   ],
   "source": [
    "np.union1d(A[0],B[0])"
   ]
  },
  {
   "cell_type": "markdown",
   "metadata": {},
   "source": [
    "### 8. 計算與輸出矩陣 A 與矩陣 B 相乘的結果"
   ]
  },
  {
   "cell_type": "code",
   "execution_count": 18,
   "metadata": {},
   "outputs": [
    {
     "data": {
      "text/plain": [
       "array([[2767, 3398, 4082, 4327, 2367],\n",
       "       [2115, 3001, 1881, 3371, 1635],\n",
       "       [1743, 2219, 2805, 2986, 1194]])"
      ]
     },
     "execution_count": 18,
     "metadata": {},
     "output_type": "execute_result"
    }
   ],
   "source": [
    "A @ B"
   ]
  },
  {
   "cell_type": "markdown",
   "metadata": {},
   "source": [
    "### 9. 將兩個矩陣扁平化後，輸出矩陣 A 與矩陣 B 的交集運算結果"
   ]
  },
  {
   "cell_type": "code",
   "execution_count": 19,
   "metadata": {},
   "outputs": [
    {
     "data": {
      "text/plain": [
       "array([ 2, 13, 22, 25])"
      ]
     },
     "execution_count": 19,
     "metadata": {},
     "output_type": "execute_result"
    }
   ],
   "source": [
    "np.intersect1d(np.ravel(A),np.ravel(B))"
   ]
  }
 ],
 "metadata": {
  "kernelspec": {
   "display_name": "Python 3 (ipykernel)",
   "language": "python",
   "name": "python3"
  },
  "language_info": {
   "codemirror_mode": {
    "name": "ipython",
    "version": 3
   },
   "file_extension": ".py",
   "mimetype": "text/x-python",
   "name": "python",
   "nbconvert_exporter": "python",
   "pygments_lexer": "ipython3",
   "version": "3.9.7"
  }
 },
 "nbformat": 4,
 "nbformat_minor": 2
}
